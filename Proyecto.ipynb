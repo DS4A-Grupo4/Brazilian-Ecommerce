{
 "cells": [
  {
   "cell_type": "markdown",
   "metadata": {
    "id": "sA77mYqxK1c7"
   },
   "source": [
    "Proyecto DS4A- E- COMMERCE"
   ]
  },
  {
   "cell_type": "code",
   "execution_count": 1,
   "metadata": {
    "id": "MlG07MbXK1c7"
   },
   "outputs": [],
   "source": [
    "# Import the Pandas package\n",
    "import pandas as pd\n",
    "\n",
    "# Import the NumPy package\n",
    "import numpy as np\n",
    "import matplotlib.pyplot as plt\n",
    "import seaborn as sns\n",
    "import unicodedata as unicode"
   ]
  },
  {
   "cell_type": "markdown",
   "metadata": {
    "id": "Kv4-j4xUK1c7"
   },
   "source": [
    "## 1. Import Datasets "
   ]
  },
  {
   "cell_type": "code",
   "execution_count": 2,
   "metadata": {
    "id": "IY2ziW3dK1c7"
   },
   "outputs": [],
   "source": [
    "customers_dataset = pd.read_csv(\"data/olist_customers_dataset.csv\")#\n",
    "geolocation_dataset = pd.read_csv(\"data/olist_geolocation_dataset.csv\")\n",
    "order_items_dataset = pd.read_csv(\"data/olist_order_items_dataset.csv\")#\n",
    "#order_payments_dataset = pd.read_csv(\"data/olist_order_payments_dataset.csv\")\n",
    "order_reviews_dataset = pd.read_csv(\"data/olist_order_reviews_dataset.csv\")#\n",
    "orders_dataset = pd.read_csv(\"data/olist_orders_dataset.csv\")#\n",
    "products_dataset = pd.read_csv(\"data/olist_products_dataset.csv\")#\n",
    "seller_dataset = pd.read_csv(\"data/olist_sellers_dataset.csv\")#\n",
    "product_category_name_translation = pd.read_csv(\"data/product_category_name_translation.csv\")#\n"
   ]
  },
  {
   "cell_type": "markdown",
   "metadata": {
    "id": "d_HWr1rYK1c7"
   },
   "source": [
    "![Captura.PNG](attachment:Captura.PNG)"
   ]
  },
  {
   "cell_type": "markdown",
   "metadata": {
    "id": "khrxd8ADK1c8"
   },
   "source": [
    "data set that contain the id, unique id, the zip code, the citya and the state of the costumer\n"
   ]
  },
  {
   "cell_type": "markdown",
   "metadata": {
    "id": "d-zHgrZjK1c8"
   },
   "source": [
    "## 2. join the data sets and creade stadistics KPI'S\n"
   ]
  },
  {
   "cell_type": "code",
   "execution_count": 3,
   "metadata": {
    "id": "pSia-xaSK1c8"
   },
   "outputs": [],
   "source": [
    "df_orders = pd.merge(customers_dataset,orders_dataset, how = \"left\", left_on = \"customer_id\", right_on = \"customer_id\")\n",
    "df_orders = pd.merge(df_orders,order_reviews_dataset, how = \"left\", left_on = \"order_id\", right_on = \"order_id\")\n",
    "#df_orders = pd.merge(mg_dataset2,seller_dataset,how = \"left\", left_on = \"seller_id\", right_on = \"seller_id\")\n",
    "#mg_dataset2 = pd.merge(mg_dataset1,order_payments_dataset, how = \"left\", left_on =\"order_id\",right_on =\"order_id\")\n",
    "#mg_dataset3 = pd.merge(mg_dataset2,order_reviews_dataset, how = \"left\", left_on = \"order_id\", right_on = \"order_id\")\n",
    "#mg_dataset4 = pd.merge(mg_dataset3,order_items_dataset,how = \"left\", left_on = \"order_id\", right_on = \"order_id\")\n",
    "#mg_dataset5 = pd.merge(mg_dataset4,products_dataset,how = \"left\", left_on = \"product_id\", right_on = \"product_id\")\n",
    "#df = pd.merge(mg_dataset5,seller_dataset,how = \"left\", left_on = \"seller_id\", right_on = \"seller_id\")\n",
    "#df = pd.merge(mg_dataset6,geolocation_dataset, how = \"left\", left_on = \"customer_zip_code_prefix\", right_on = \"geolocation_zip_code_prefix\")\n",
    "df_items=pd.merge(order_items_dataset,products_dataset,how='left',left_on='product_id',right_on='product_id')\n",
    "df_items=pd.merge(df_items,product_category_name_translation,how='left',left_on='product_category_name',right_on='product_category_name')\n",
    "df_items=pd.merge(df_items,seller_dataset,how='left',left_on='seller_id',right_on='seller_id')\n",
    "\n"
   ]
  },
  {
   "cell_type": "code",
   "execution_count": 4,
   "metadata": {},
   "outputs": [
    {
     "data": {
      "text/plain": [
       "array(['sao paulo', 'sao bernardo do campo', 'jundiai', ...,\n",
       "       'floriano peixoto', 'erebango', 'santa cecilia do sul'], dtype=object)"
      ]
     },
     "execution_count": 4,
     "metadata": {},
     "output_type": "execute_result"
    }
   ],
   "source": [
    "\n",
    "\n",
    "geolocation_dataset['geolocation_city']=geolocation_dataset['geolocation_city'].apply(lambda x: unicode.normalize('NFKD',x).encode(\"ascii\",\"ignore\").decode(\"ascii\"))\n",
    "geolocation_dataset['geolocation_city'].unique()\n"
   ]
  },
  {
   "cell_type": "code",
   "execution_count": null,
   "metadata": {},
   "outputs": [
    {
     "data": {
      "text/html": [
       "<div>\n",
       "<style scoped>\n",
       "    .dataframe tbody tr th:only-of-type {\n",
       "        vertical-align: middle;\n",
       "    }\n",
       "\n",
       "    .dataframe tbody tr th {\n",
       "        vertical-align: top;\n",
       "    }\n",
       "\n",
       "    .dataframe thead th {\n",
       "        text-align: right;\n",
       "    }\n",
       "</style>\n",
       "<table border=\"1\" class=\"dataframe\">\n",
       "  <thead>\n",
       "    <tr style=\"text-align: right;\">\n",
       "      <th></th>\n",
       "      <th>geolocation_zip_code_prefix</th>\n",
       "      <th>geolocation_lat</th>\n",
       "      <th>geolocation_lng</th>\n",
       "      <th>geolocation_city</th>\n",
       "      <th>geolocation_state</th>\n",
       "    </tr>\n",
       "  </thead>\n",
       "  <tbody>\n",
       "    <tr>\n",
       "      <th>0</th>\n",
       "      <td>1001</td>\n",
       "      <td>-23.550190</td>\n",
       "      <td>-46.634024</td>\n",
       "      <td>sao paulo</td>\n",
       "      <td>SP</td>\n",
       "    </tr>\n",
       "    <tr>\n",
       "      <th>1</th>\n",
       "      <td>1002</td>\n",
       "      <td>-23.548146</td>\n",
       "      <td>-46.634979</td>\n",
       "      <td>sao paulo</td>\n",
       "      <td>SP</td>\n",
       "    </tr>\n",
       "    <tr>\n",
       "      <th>2</th>\n",
       "      <td>1003</td>\n",
       "      <td>-23.548994</td>\n",
       "      <td>-46.635731</td>\n",
       "      <td>sao paulo</td>\n",
       "      <td>SP</td>\n",
       "    </tr>\n",
       "    <tr>\n",
       "      <th>3</th>\n",
       "      <td>1004</td>\n",
       "      <td>-23.549799</td>\n",
       "      <td>-46.634757</td>\n",
       "      <td>sao paulo</td>\n",
       "      <td>SP</td>\n",
       "    </tr>\n",
       "    <tr>\n",
       "      <th>4</th>\n",
       "      <td>1005</td>\n",
       "      <td>-23.549456</td>\n",
       "      <td>-46.636733</td>\n",
       "      <td>sao paulo</td>\n",
       "      <td>SP</td>\n",
       "    </tr>\n",
       "  </tbody>\n",
       "</table>\n",
       "</div>"
      ],
      "text/plain": [
       "   geolocation_zip_code_prefix  geolocation_lat  geolocation_lng  \\\n",
       "0                         1001       -23.550190       -46.634024   \n",
       "1                         1002       -23.548146       -46.634979   \n",
       "2                         1003       -23.548994       -46.635731   \n",
       "3                         1004       -23.549799       -46.634757   \n",
       "4                         1005       -23.549456       -46.636733   \n",
       "\n",
       "  geolocation_city geolocation_state  \n",
       "0        sao paulo                SP  \n",
       "1        sao paulo                SP  \n",
       "2        sao paulo                SP  \n",
       "3        sao paulo                SP  \n",
       "4        sao paulo                SP  "
      ]
     },
     "execution_count": 5,
     "metadata": {},
     "output_type": "execute_result"
    }
   ],
   "source": [
    "maxlat=5.25\n",
    "minlat=-33.75\n",
    "minlng=-74\n",
    "maxlng=-29\n",
    "geolocation_dataset=geolocation_dataset.drop(geolocation_dataset[(geolocation_dataset['geolocation_lat']>maxlat) | (geolocation_dataset['geolocation_lat']<minlat)|(geolocation_dataset['geolocation_lng']>maxlng) | (geolocation_dataset['geolocation_lng']<minlng)].index)\n",
    "df_geo=geolocation_dataset.groupby('geolocation_zip_code_prefix').aggregate({'geolocation_lat':'mean','geolocation_lng':'mean'})\n",
    "temp=geolocation_dataset.groupby(['geolocation_zip_code_prefix','geolocation_city','geolocation_state']).count().reset_index()\n",
    "\n",
    "df_geo=df_geo.merge(temp[['geolocation_zip_code_prefix','geolocation_city','geolocation_state']],how='left',on='geolocation_zip_code_prefix')\n",
    "df_geo.head()"
   ]
  },
  {
   "cell_type": "code",
   "execution_count": null,
   "metadata": {},
   "outputs": [
    {
     "data": {
      "text/html": [
       "<div>\n",
       "<style scoped>\n",
       "    .dataframe tbody tr th:only-of-type {\n",
       "        vertical-align: middle;\n",
       "    }\n",
       "\n",
       "    .dataframe tbody tr th {\n",
       "        vertical-align: top;\n",
       "    }\n",
       "\n",
       "    .dataframe thead th {\n",
       "        text-align: right;\n",
       "    }\n",
       "</style>\n",
       "<table border=\"1\" class=\"dataframe\">\n",
       "  <thead>\n",
       "    <tr style=\"text-align: right;\">\n",
       "      <th></th>\n",
       "      <th>customer_id</th>\n",
       "      <th>customer_unique_id</th>\n",
       "      <th>customer_zip_code_prefix</th>\n",
       "      <th>customer_city</th>\n",
       "      <th>customer_state</th>\n",
       "      <th>order_id</th>\n",
       "      <th>order_status</th>\n",
       "      <th>order_purchase_timestamp</th>\n",
       "      <th>order_approved_at</th>\n",
       "      <th>order_delivered_carrier_date</th>\n",
       "      <th>...</th>\n",
       "      <th>review_score</th>\n",
       "      <th>review_comment_title</th>\n",
       "      <th>review_comment_message</th>\n",
       "      <th>review_creation_date</th>\n",
       "      <th>review_answer_timestamp</th>\n",
       "      <th>geolocation_zip_code_prefix</th>\n",
       "      <th>geolocation_lat</th>\n",
       "      <th>geolocation_lng</th>\n",
       "      <th>geolocation_city</th>\n",
       "      <th>geolocation_state</th>\n",
       "    </tr>\n",
       "  </thead>\n",
       "  <tbody>\n",
       "    <tr>\n",
       "      <th>0</th>\n",
       "      <td>06b8999e2fba1a1fbc88172c00ba8bc7</td>\n",
       "      <td>861eff4711a542e4b93843c6dd7febb0</td>\n",
       "      <td>14409</td>\n",
       "      <td>franca</td>\n",
       "      <td>SP</td>\n",
       "      <td>00e7ee1b050b8499577073aeb2a297a1</td>\n",
       "      <td>delivered</td>\n",
       "      <td>2017-05-16 15:05:35</td>\n",
       "      <td>2017-05-16 15:22:12</td>\n",
       "      <td>2017-05-23 10:47:57</td>\n",
       "      <td>...</td>\n",
       "      <td>4</td>\n",
       "      <td>NaN</td>\n",
       "      <td>NaN</td>\n",
       "      <td>2017-05-26 00:00:00</td>\n",
       "      <td>2017-05-30 22:34:40</td>\n",
       "      <td>14409.0</td>\n",
       "      <td>-20.498489</td>\n",
       "      <td>-47.396929</td>\n",
       "      <td>franca</td>\n",
       "      <td>SP</td>\n",
       "    </tr>\n",
       "    <tr>\n",
       "      <th>1</th>\n",
       "      <td>18955e83d337fd6b2def6b18a428ac77</td>\n",
       "      <td>290c77bc529b7ac935b93aa66c333dc3</td>\n",
       "      <td>9790</td>\n",
       "      <td>sao bernardo do campo</td>\n",
       "      <td>SP</td>\n",
       "      <td>29150127e6685892b6eab3eec79f59c7</td>\n",
       "      <td>delivered</td>\n",
       "      <td>2018-01-12 20:48:24</td>\n",
       "      <td>2018-01-12 20:58:32</td>\n",
       "      <td>2018-01-15 17:14:59</td>\n",
       "      <td>...</td>\n",
       "      <td>5</td>\n",
       "      <td>NaN</td>\n",
       "      <td>NaN</td>\n",
       "      <td>2018-01-30 00:00:00</td>\n",
       "      <td>2018-02-10 22:43:29</td>\n",
       "      <td>9790.0</td>\n",
       "      <td>-23.727992</td>\n",
       "      <td>-46.542848</td>\n",
       "      <td>sao bernardo do campo</td>\n",
       "      <td>SP</td>\n",
       "    </tr>\n",
       "  </tbody>\n",
       "</table>\n",
       "<p>2 rows × 23 columns</p>\n",
       "</div>"
      ],
      "text/plain": [
       "                        customer_id                customer_unique_id  \\\n",
       "0  06b8999e2fba1a1fbc88172c00ba8bc7  861eff4711a542e4b93843c6dd7febb0   \n",
       "1  18955e83d337fd6b2def6b18a428ac77  290c77bc529b7ac935b93aa66c333dc3   \n",
       "\n",
       "   customer_zip_code_prefix          customer_city customer_state  \\\n",
       "0                     14409                 franca             SP   \n",
       "1                      9790  sao bernardo do campo             SP   \n",
       "\n",
       "                           order_id order_status order_purchase_timestamp  \\\n",
       "0  00e7ee1b050b8499577073aeb2a297a1    delivered      2017-05-16 15:05:35   \n",
       "1  29150127e6685892b6eab3eec79f59c7    delivered      2018-01-12 20:48:24   \n",
       "\n",
       "     order_approved_at order_delivered_carrier_date        ...          \\\n",
       "0  2017-05-16 15:22:12          2017-05-23 10:47:57        ...           \n",
       "1  2018-01-12 20:58:32          2018-01-15 17:14:59        ...           \n",
       "\n",
       "  review_score review_comment_title review_comment_message  \\\n",
       "0            4                  NaN                    NaN   \n",
       "1            5                  NaN                    NaN   \n",
       "\n",
       "   review_creation_date review_answer_timestamp geolocation_zip_code_prefix  \\\n",
       "0   2017-05-26 00:00:00     2017-05-30 22:34:40                     14409.0   \n",
       "1   2018-01-30 00:00:00     2018-02-10 22:43:29                      9790.0   \n",
       "\n",
       "  geolocation_lat geolocation_lng       geolocation_city  geolocation_state  \n",
       "0      -20.498489      -47.396929                 franca                 SP  \n",
       "1      -23.727992      -46.542848  sao bernardo do campo                 SP  \n",
       "\n",
       "[2 rows x 23 columns]"
      ]
     },
     "execution_count": 6,
     "metadata": {},
     "output_type": "execute_result"
    }
   ],
   "source": [
    "df_orders=df_orders.merge(df_geo,how='left',right_on='geolocation_zip_code_prefix',left_on='customer_zip_code_prefix')\n",
    "df_orders.head(2)"
   ]
  },
  {
   "cell_type": "code",
   "execution_count": null,
   "metadata": {},
   "outputs": [
    {
     "data": {
      "text/html": [
       "<div>\n",
       "<style scoped>\n",
       "    .dataframe tbody tr th:only-of-type {\n",
       "        vertical-align: middle;\n",
       "    }\n",
       "\n",
       "    .dataframe tbody tr th {\n",
       "        vertical-align: top;\n",
       "    }\n",
       "\n",
       "    .dataframe thead th {\n",
       "        text-align: right;\n",
       "    }\n",
       "</style>\n",
       "<table border=\"1\" class=\"dataframe\">\n",
       "  <thead>\n",
       "    <tr style=\"text-align: right;\">\n",
       "      <th></th>\n",
       "      <th>order_id</th>\n",
       "      <th>order_item_id</th>\n",
       "      <th>product_id</th>\n",
       "      <th>seller_id</th>\n",
       "      <th>shipping_limit_date</th>\n",
       "      <th>price</th>\n",
       "      <th>freight_value</th>\n",
       "      <th>product_category_name</th>\n",
       "      <th>product_name_lenght</th>\n",
       "      <th>product_description_length</th>\n",
       "      <th>...</th>\n",
       "      <th>product_width_cm</th>\n",
       "      <th>product_category_name_english</th>\n",
       "      <th>seller_zip_code_prefix</th>\n",
       "      <th>seller_city</th>\n",
       "      <th>seller_state</th>\n",
       "      <th>geolocation_zip_code_prefix</th>\n",
       "      <th>geolocation_lat</th>\n",
       "      <th>geolocation_lng</th>\n",
       "      <th>geolocation_city</th>\n",
       "      <th>geolocation_state</th>\n",
       "    </tr>\n",
       "  </thead>\n",
       "  <tbody>\n",
       "    <tr>\n",
       "      <th>0</th>\n",
       "      <td>00010242fe8c5a6d1ba2dd792cb16214</td>\n",
       "      <td>1</td>\n",
       "      <td>4244733e06e7ecb4970a6e2683c13e61</td>\n",
       "      <td>48436dade18ac8b2bce089ec2a041202</td>\n",
       "      <td>2017-09-19 09:45:35</td>\n",
       "      <td>58.9</td>\n",
       "      <td>13.29</td>\n",
       "      <td>cool_stuff</td>\n",
       "      <td>58.0</td>\n",
       "      <td>598.0</td>\n",
       "      <td>...</td>\n",
       "      <td>14.0</td>\n",
       "      <td>cool_stuff</td>\n",
       "      <td>27277</td>\n",
       "      <td>volta redonda</td>\n",
       "      <td>SP</td>\n",
       "      <td>27277.0</td>\n",
       "      <td>-22.496953</td>\n",
       "      <td>-44.127492</td>\n",
       "      <td>volta redonda</td>\n",
       "      <td>RJ</td>\n",
       "    </tr>\n",
       "    <tr>\n",
       "      <th>1</th>\n",
       "      <td>00018f77f2f0320c557190d7a144bdd3</td>\n",
       "      <td>1</td>\n",
       "      <td>e5f2d52b802189ee658865ca93d83a8f</td>\n",
       "      <td>dd7ddc04e1b6c2c614352b383efe2d36</td>\n",
       "      <td>2017-05-03 11:05:13</td>\n",
       "      <td>239.9</td>\n",
       "      <td>19.93</td>\n",
       "      <td>pet_shop</td>\n",
       "      <td>56.0</td>\n",
       "      <td>239.0</td>\n",
       "      <td>...</td>\n",
       "      <td>40.0</td>\n",
       "      <td>pet_shop</td>\n",
       "      <td>3471</td>\n",
       "      <td>sao paulo</td>\n",
       "      <td>SP</td>\n",
       "      <td>3471.0</td>\n",
       "      <td>-23.565096</td>\n",
       "      <td>-46.518565</td>\n",
       "      <td>sao paulo</td>\n",
       "      <td>SP</td>\n",
       "    </tr>\n",
       "  </tbody>\n",
       "</table>\n",
       "<p>2 rows × 24 columns</p>\n",
       "</div>"
      ],
      "text/plain": [
       "                           order_id  order_item_id  \\\n",
       "0  00010242fe8c5a6d1ba2dd792cb16214              1   \n",
       "1  00018f77f2f0320c557190d7a144bdd3              1   \n",
       "\n",
       "                         product_id                         seller_id  \\\n",
       "0  4244733e06e7ecb4970a6e2683c13e61  48436dade18ac8b2bce089ec2a041202   \n",
       "1  e5f2d52b802189ee658865ca93d83a8f  dd7ddc04e1b6c2c614352b383efe2d36   \n",
       "\n",
       "   shipping_limit_date  price  freight_value product_category_name  \\\n",
       "0  2017-09-19 09:45:35   58.9          13.29            cool_stuff   \n",
       "1  2017-05-03 11:05:13  239.9          19.93              pet_shop   \n",
       "\n",
       "   product_name_lenght  product_description_length        ...          \\\n",
       "0                 58.0                       598.0        ...           \n",
       "1                 56.0                       239.0        ...           \n",
       "\n",
       "   product_width_cm  product_category_name_english  seller_zip_code_prefix  \\\n",
       "0              14.0                     cool_stuff                   27277   \n",
       "1              40.0                       pet_shop                    3471   \n",
       "\n",
       "     seller_city  seller_state geolocation_zip_code_prefix  geolocation_lat  \\\n",
       "0  volta redonda            SP                     27277.0       -22.496953   \n",
       "1      sao paulo            SP                      3471.0       -23.565096   \n",
       "\n",
       "  geolocation_lng geolocation_city  geolocation_state  \n",
       "0      -44.127492    volta redonda                 RJ  \n",
       "1      -46.518565        sao paulo                 SP  \n",
       "\n",
       "[2 rows x 24 columns]"
      ]
     },
     "execution_count": 7,
     "metadata": {},
     "output_type": "execute_result"
    }
   ],
   "source": [
    "df_items=df_items.merge(df_geo,how='left',right_on='geolocation_zip_code_prefix',left_on='seller_zip_code_prefix')\n",
    "df_items.head(2)"
   ]
  },
  {
   "cell_type": "code",
   "execution_count": null,
   "metadata": {},
   "outputs": [],
   "source": [
    "df_items=df_items.merge(df_orders[['order_id','geolocation_lat','geolocation_lng']],how='left',on='order_id')\n",
    "import math as math\n",
    "def distancia(row):\n",
    "    lat1=row['geolocation_lat_x']\n",
    "    lat2=row['geolocation_lat_y']\n",
    "    lng1=row['geolocation_lng_x']\n",
    "    lng2=row['geolocation_lng_y']\n",
    "    R_earth=6371\n",
    "    dlat=math.radians(lat2-lat1)\n",
    "    dlng=math.radians(lng2-lng1)\n",
    "    a= (math.sin(dlat/2))**2+math.cos(math.radians(lat1))*math.cos(math.radians(lat2))*((math.sin(dlng/2))**2)\n",
    "    c=2*math.atan2(math.sqrt(a),math.sqrt(1-a))\n",
    "    return R_earth*c\n",
    "\n",
    "df_items['distance']=df_items.apply(lambda x:distancia(x),axis=1)\n",
    "df_items[\"LIMIT_DATE\"] = pd.to_datetime(df_items[\"shipping_limit_date\"])\n",
    "df_orders['order_estimated_delivery_date']=pd.to_datetime(df_orders['order_estimated_delivery_date'])\n",
    "temp=df_items.groupby('order_id').agg({'product_id':'count','LIMIT_DATE':'max','distance':'max'}).reset_index()\n",
    "temp.columns=['order_id','Q_products','Shipping_due_date','Distance']\n",
    "df_orders=df_orders.merge(temp,how='left',on='order_id')\n"
   ]
  },
  {
   "cell_type": "code",
   "execution_count": null,
   "metadata": {},
   "outputs": [],
   "source": [
    "df_items[\"LIMIT_DATE\"] = pd.to_datetime(df_items[\"shipping_limit_date\"])\n",
    "df_orders['order_estimated_delivery_date']=pd.to_datetime(df_orders['order_estimated_delivery_date'])\n",
    "df_orders['order_delivered_customer_date']=pd.to_datetime(df_orders['order_delivered_customer_date'])\n",
    "df_orders['Fulfill_date']= df_orders['order_delivered_customer_date']<df_orders['order_estimated_delivery_date']"
   ]
  },
  {
   "cell_type": "markdown",
   "metadata": {
    "id": "sm5Fp27xljzi"
   },
   "source": [
    "Hasta aca quedaron dos tablas:\n",
    "\n",
    "**df_ orders** que tiene un registro por cada compra en olist y dentro tiene:\n",
    "\n",
    "1. Informacion de la orden\n",
    "2. Informacion del cliente\n",
    "3. Informacion del Review del cliente\n",
    "4. Georeferenciacion del cliente\n",
    "\n",
    "**df_items** que tiene un registro por cada item que se ha despachado y dentro tiene:\n",
    "\n",
    "1. Informacion de cada producto\n",
    "2. Numero de Orden  a la que esta relacionada\n",
    "3. Informacion del vendedor (Cada item es despachada por un unico vendedor, pero una orden puede ser despachada por varios vendedores)\n",
    "4. Georeferenciacion del vendedor\n",
    "\n",
    "La informacion de **georeferenciacion** llega solo al zipcode del comprador y del vendedor, parece que le eliminaron la direccion, pero dejaron las coordenadas, por lo que incluir esta informacion hace que los registros se repitan la cantidad de clientes+vendedores que existan en el mismo zipcode\n",
    "\n",
    "La informacion de pagos creo que puede ser relevante, pero tiene el problema de que el cliente puede hacer el pago con mas de un metodo, al final creo que la informacion relevante es que medio uso (solo hay 4 o 5 medios) y puede que tambien sea relevante en cuantas partes dividio el pago (numero maximo de payment_sequential)\n",
    "\n",
    "\n",
    "**Sugerencia1**: En la tabla de reviews, hay ordenes que tienen mas de un review, debemos limpiarla y dejar el ultimo por fecha de registro del review (el cliente pudo cambiar de opinion o contestar la encuesta varias veces)\n",
    "\n",
    "**Sugerencia 2**: Hacer con los pagos 5 variables categoricas para determinar los medios de pago que utilizo el cliente en cada ordes, agregar el numero de payments con el max de payment_sequential y llevar estas 6 variables a la tabla df_orders"
   ]
  },
  {
   "cell_type": "code",
   "execution_count": null,
   "metadata": {},
   "outputs": [
    {
     "name": "stdout",
     "output_type": "stream",
     "text": [
      "<class 'pandas.core.frame.DataFrame'>\n",
      "Int64Index: 103712 entries, 0 to 103711\n",
      "Data columns (total 27 columns):\n",
      "customer_id                      103712 non-null object\n",
      "customer_unique_id               103712 non-null object\n",
      "customer_zip_code_prefix         103712 non-null int64\n",
      "customer_city                    103712 non-null object\n",
      "customer_state                   103712 non-null object\n",
      "order_id                         103712 non-null object\n",
      "order_status                     103712 non-null object\n",
      "order_purchase_timestamp         103712 non-null object\n",
      "order_approved_at                103547 non-null object\n",
      "order_delivered_carrier_date     101867 non-null object\n",
      "order_delivered_customer_date    100631 non-null datetime64[ns]\n",
      "order_estimated_delivery_date    103712 non-null datetime64[ns]\n",
      "review_id                        103712 non-null object\n",
      "review_score                     103712 non-null int64\n",
      "review_comment_title             12182 non-null object\n",
      "review_comment_message           43360 non-null object\n",
      "review_creation_date             103712 non-null object\n",
      "review_answer_timestamp          103712 non-null object\n",
      "geolocation_zip_code_prefix      103430 non-null float64\n",
      "geolocation_lat                  103430 non-null float64\n",
      "geolocation_lng                  103430 non-null float64\n",
      "geolocation_city                 103430 non-null object\n",
      "geolocation_state                103430 non-null object\n",
      "Q_products                       102913 non-null float64\n",
      "Shipping_due_date                102913 non-null datetime64[ns]\n",
      "Distance                         102411 non-null float64\n",
      "Fulfill_date                     103712 non-null bool\n",
      "dtypes: bool(1), datetime64[ns](3), float64(5), int64(2), object(16)\n",
      "memory usage: 21.5+ MB\n"
     ]
    }
   ],
   "source": [
    "df_orders.info() # Entendimiento de las variables."
   ]
  },
  {
   "cell_type": "markdown",
   "metadata": {},
   "source": [
    "Revisando la información de las variables que componen el Data Frame, nos damos cuenta que order_delivered_carrier_date,order_delivered_customer_date,review_comment_title y review_comment_message presentan valores NA dentro de sus columnas. adempas que tenemos un total de 100.000 registros unicos en la base haciendo referencia a las compras que hicieron los clientes\n"
   ]
  },
  {
   "cell_type": "code",
   "execution_count": null,
   "metadata": {},
   "outputs": [
    {
     "name": "stdout",
     "output_type": "stream",
     "text": [
      "      DATE  customer_unique_id\n",
      "0  2016-09                   4\n",
      "1  2016-10                 336\n",
      "2  2016-12                   1\n",
      "3  2017-01                 843\n",
      "4  2017-02                1849\n",
      "5  2017-03                2790\n",
      "6  2017-04                2507\n",
      "7  2017-05                3862\n",
      "8  2017-06                3377\n",
      "9  2017-07                4201\n",
      "10 2017-08                4532\n",
      "11 2017-09                4466\n",
      "12 2017-10                4840\n",
      "13 2017-11                7908\n",
      "14 2017-12                5944\n",
      "15 2018-01                7608\n",
      "16 2018-02                7056\n",
      "17 2018-03                7531\n",
      "18 2018-04                7193\n",
      "19 2018-05                7152\n",
      "20 2018-06                6403\n",
      "21 2018-07                6552\n",
      "22 2018-08                6737\n",
      "23 2018-09                  16\n",
      "24 2018-10                   4\n"
     ]
    },
    {
     "data": {
      "text/plain": [
       "<matplotlib.legend.Legend at 0x7f53637aca20>"
      ]
     },
     "execution_count": 11,
     "metadata": {},
     "output_type": "execute_result"
    },
    {
     "data": {
      "image/png": "[encoded data removed]",
      "text/plain": [
       "<Figure size 432x288 with 1 Axes>"
      ]
     },
     "metadata": {
      "needs_background": "light"
     },
     "output_type": "display_data"
    }
   ],
   "source": [
    "#Grafica del numero de ordenes por mes de análisis\n",
    "df_orders[\"DATE\"] = pd.to_datetime(df_orders[\"order_purchase_timestamp\"])\n",
    "df_orders[\"DATE\"] = df_orders[\"DATE\"].dt.to_period(freq = \"M\")\n",
    "\n",
    "orders_by_month = df_orders.groupby('DATE')['customer_unique_id'].count().reset_index(drop = False)\n",
    "print(orders_by_month)\n",
    "\n",
    "#Line Plot for the Colission by date.\n",
    "\n",
    "# Modificación Emmanuel G para embellecer las gráficas\n",
    "# Inicio (1)\n",
    "orders_by_month.plot(x= \"DATE\",y=\"customer_unique_id\",title=\"Number of Orders per Month\")\n",
    "plt.xlabel(\"Period\")    \n",
    "plt.legend('',frameon=False)\n",
    "#Fin (1)"
   ]
  },
  {
   "cell_type": "markdown",
   "metadata": {},
   "source": [
    "Creación de una variable que calcule el tiempo que se demora en entregar un producto desde que se realizó la compra por la plataforma, pues puede ser una variable explicativa del socore de los clientes.\n"
   ]
  },
  {
   "cell_type": "code",
   "execution_count": null,
   "metadata": {},
   "outputs": [
    {
     "data": {
      "text/html": [
       "<div>\n",
       "<style scoped>\n",
       "    .dataframe tbody tr th:only-of-type {\n",
       "        vertical-align: middle;\n",
       "    }\n",
       "\n",
       "    .dataframe tbody tr th {\n",
       "        vertical-align: top;\n",
       "    }\n",
       "\n",
       "    .dataframe thead th {\n",
       "        text-align: right;\n",
       "    }\n",
       "</style>\n",
       "<table border=\"1\" class=\"dataframe\">\n",
       "  <thead>\n",
       "    <tr style=\"text-align: right;\">\n",
       "      <th></th>\n",
       "      <th>Time Duration</th>\n",
       "    </tr>\n",
       "  </thead>\n",
       "  <tbody>\n",
       "    <tr>\n",
       "      <th>count</th>\n",
       "      <td>100631.000000</td>\n",
       "    </tr>\n",
       "    <tr>\n",
       "      <th>mean</th>\n",
       "      <td>12.123610</td>\n",
       "    </tr>\n",
       "    <tr>\n",
       "      <th>std</th>\n",
       "      <td>9.574398</td>\n",
       "    </tr>\n",
       "    <tr>\n",
       "      <th>min</th>\n",
       "      <td>0.000000</td>\n",
       "    </tr>\n",
       "    <tr>\n",
       "      <th>25%</th>\n",
       "      <td>6.000000</td>\n",
       "    </tr>\n",
       "    <tr>\n",
       "      <th>50%</th>\n",
       "      <td>10.000000</td>\n",
       "    </tr>\n",
       "    <tr>\n",
       "      <th>75%</th>\n",
       "      <td>15.000000</td>\n",
       "    </tr>\n",
       "    <tr>\n",
       "      <th>max</th>\n",
       "      <td>209.000000</td>\n",
       "    </tr>\n",
       "  </tbody>\n",
       "</table>\n",
       "</div>"
      ],
      "text/plain": [
       "       Time Duration\n",
       "count  100631.000000\n",
       "mean       12.123610\n",
       "std         9.574398\n",
       "min         0.000000\n",
       "25%         6.000000\n",
       "50%        10.000000\n",
       "75%        15.000000\n",
       "max       209.000000"
      ]
     },
     "execution_count": 12,
     "metadata": {},
     "output_type": "execute_result"
    }
   ],
   "source": [
    "#CREACIÓN DE UNA VARIABLE DEL TIEMPO ENTRE COMPRA Y ENTREGA DE PRODUCTO\n",
    "# Then with the remaining values, convert them to datetime objects\n",
    "df_orders['order_delivered_customer_date'] = pd.to_datetime(df_orders['order_delivered_customer_date'], format='%Y/%m/%d %H:%M:%S')\n",
    "df_orders['order_purchase_timestamp'] = pd.to_datetime(df_orders['order_purchase_timestamp'], format='%Y/%m/%d %H:%M:%S')\n",
    "\n",
    "df_orders['time_duration'] = (df_orders['order_delivered_customer_date'] - df_orders['order_purchase_timestamp'])\n",
    "df_orders['time_duration'] = df_orders['time_duration'].apply(lambda x: x.days)\n",
    "# At this point, its important to know the time duration since customer purchase and delivery.\n",
    "\n",
    "# Modificación de Emmanuel G para embellecer\n",
    "#Inicio (2)\n",
    "df_describe = pd.DataFrame(df_orders['time_duration'].describe())\n",
    "df_describe.columns = {'Time Duration'}\n",
    "df_describe\n",
    "#Fin (2)"
   ]
  },
  {
   "cell_type": "markdown",
   "metadata": {},
   "source": [
    "Como se evidencia en el resultado anterior, el promedio de dias que toma un producto en ser entregado desde el día de compra es de 12 dias. Lo importante aquí es que se encontró que el valor maximo de tiempo de duración es de 209 dias, al rededor de 7 meses, algo bastante extraño y que ahondaremos más adelante.\n"
   ]
  },
  {
   "cell_type": "code",
   "execution_count": null,
   "metadata": {},
   "outputs": [
    {
     "data": {
      "text/plain": [
       "[Text(0,0.5,'# Customers (Unique)'),\n",
       " Text(0.5,0,'Time Duration'),\n",
       " Text(0.5,1,'Number of curstomers (Unique) Vs Time Duration')]"
      ]
     },
     "execution_count": 13,
     "metadata": {},
     "output_type": "execute_result"
    },
    {
     "data": {
      "image/png": "[encoded data removed]",
      "text/plain": [
       "<Figure size 864x432 with 1 Axes>"
      ]
     },
     "metadata": {
      "needs_background": "light"
     },
     "output_type": "display_data"
    }
   ],
   "source": [
    "df_subset= df_orders[df_orders.time_duration <= 20]\n",
    "df_by_duration = df_subset.groupby(['time_duration'])['customer_unique_id'].count().reset_index(drop = False)\n",
    "\n",
    "#Modificación de Emmanuel G para embellecer\n",
    "#Inicio(3) \n",
    "fig, ax = plt.subplots(figsize=(12, 6))\n",
    "g = sns.barplot(ax=ax\n",
    "                , x=\"time_duration\"\n",
    "                , y=\"customer_unique_id\"\n",
    "                , data=df_by_duration\n",
    "                , palette=\"Blues_d\"                \n",
    "               )\n",
    "g.set(xlabel = 'Time Duration', ylabel = '# Customers (Unique)', title=\"Number of curstomers (Unique) Vs Time Duration\")\n",
    "#Fin(3)"
   ]
  },
  {
   "cell_type": "markdown",
   "metadata": {},
   "source": [
    "Evidenciamos que la distribución al rededor de la grafica se concentra en los periodos comprendidos entre 0 y 7 dias de demora en entrega del producto, y continua decendiendo. ahora bien esto nos puede dar indicios queel promedio de demora no suele ser superior a los 7 dias para el promedio de datos de toda la base, pero es relevante compararlo con los scores en reviews para poder identificar algún patrón."
   ]
  },
  {
   "cell_type": "code",
   "execution_count": null,
   "metadata": {},
   "outputs": [
    {
     "name": "stderr",
     "output_type": "stream",
     "text": [
      "/opt/conda/lib/python3.6/site-packages/pandas/core/generic.py:4405: SettingWithCopyWarning: \n",
      "A value is trying to be set on a copy of a slice from a DataFrame.\n",
      "Try using .loc[row_indexer,col_indexer] = value instead\n",
      "\n",
      "See the caveats in the documentation: http://pandas.pydata.org/pandas-docs/stable/indexing.html#indexing-view-versus-copy\n",
      "  self[name] = value\n"
     ]
    },
    {
     "data": {
      "text/plain": [
       "<seaborn.axisgrid.FacetGrid at 0x7f5369a967f0>"
      ]
     },
     "execution_count": 14,
     "metadata": {},
     "output_type": "execute_result"
    },
    {
     "data": {
      "image/png": "[encoded data removed]",
      "text/plain": [
       "<Figure size 1080x216 with 5 Axes>"
      ]
     },
     "metadata": {
      "needs_background": "light"
     },
     "output_type": "display_data"
    }
   ],
   "source": [
    "df_subset= df_orders[df_orders.time_duration <= 20]\n",
    "df_subset.time_duration = df_subset.time_duration.astype(int)\n",
    "df_by_duration = df_subset.groupby(['time_duration','review_score'])['customer_unique_id'].count().reset_index(drop = False)\n",
    "g = sns.FacetGrid(df_by_duration, col = 'review_score')\n",
    "g.set_xticklabels(fontsize=10)\n",
    "g.map_dataframe(sns.barplot, x= 'time_duration', y = 'customer_unique_id')\n",
    "g.set_axis_labels(\"Hours\", \"Number of Cases\")"
   ]
  },
  {
   "cell_type": "code",
   "execution_count": null,
   "metadata": {},
   "outputs": [
    {
     "data": {
      "image/png": "[encoded data removed]",
      "text/plain": [
       "<Figure size 1080x432 with 1 Axes>"
      ]
     },
     "metadata": {
      "needs_background": "light"
     },
     "output_type": "display_data"
    }
   ],
   "source": [
    "plt.figure(figsize=(15,6))\n",
    "sns.boxplot(y = 'time_duration', x='review_score', data = df_orders)\n",
    "#Modificación de Emmanuel para embellecer\n",
    "#Inicio(4)\n",
    "title_string = \"Review Score vs. Delivery Time (BoxSplot)\" \n",
    "plt.ylabel(\"Delivery Time\")\n",
    "plt.xlabel(\"Review Score\")\n",
    "#Fin(4)\n",
    "_=plt.title(title_string)"
   ]
  },
  {
   "cell_type": "markdown",
   "metadata": {},
   "source": [
    "Evidenciamos que a pesar que el score 5 en los reviews presenta más registros que los otros valores, en promedio el maximo tiempo de duración para las cinco calificaciones es 7 días. Otro dato relevante es que para el caso de un score de 1 y 2, parece que la distribución a lo largo de la duración de entrega es constante, pareciendo que pueden haber otras razones aparte de la duración de entrga que influya en la calificación.\n"
   ]
  },
  {
   "cell_type": "markdown",
   "metadata": {},
   "source": [
    "Por lo anterior, podría ser interesante preguntarnos el coeficiente de correlación entre el socre de review y el numero de dias de entrega del producto, lo cual calculamos acontinuación:\n",
    "    "
   ]
  },
  {
   "cell_type": "code",
   "execution_count": null,
   "metadata": {},
   "outputs": [],
   "source": [
    "#productos MAS vendidos:\n",
    "df_products = df_items.groupby('product_category_name_english')['order_id'].count().reset_index(drop = False)\n",
    "df_products = df_products.sort_values(by = 'order_id', ascending = False).reset_index(drop = True)\n",
    "top_products = df_products.head(10)\n",
    "top_products"
   ]
  },
  {
   "cell_type": "code",
   "execution_count": null,
   "metadata": {},
   "outputs": [],
   "source": [
    "#productos menos vendidos:\n",
    "df_products = df_items.groupby('product_category_name_english')['order_id'].count().reset_index(drop = False)\n",
    "df_products = df_products.sort_values(by = 'order_id', ascending = True).reset_index(drop = True)\n",
    "deep_10_products = df_products.head(10)\n",
    "deep_10_products"
   ]
  },
  {
   "cell_type": "code",
   "execution_count": null,
   "metadata": {
    "colab": {
     "base_uri": "https://localhost:8080/",
     "height": 522
    },
    "id": "1zJ2BbeSogWT",
    "outputId": "f233168d-7e90-44a8-be1f-b28d671d0567"
   },
   "outputs": [],
   "source": [
    "plt.figure(figsize=(17,8))\n",
    "temp=df_orders.groupby('customer_state')['order_id'].count().sort_values(ascending=False).head(10).plot.bar()"
   ]
  },
  {
   "cell_type": "markdown",
   "metadata": {
    "id": "EJuOCOmwzVEo"
   },
   "source": [
    "Distribucion Reviews"
   ]
  },
  {
   "cell_type": "code",
   "execution_count": null,
   "metadata": {
    "colab": {
     "base_uri": "https://localhost:8080/",
     "height": 514
    },
    "id": "i3VGcK4Zo30h",
    "outputId": "c3dbaf2b-4d95-4493-d149-458a7d604f41"
   },
   "outputs": [],
   "source": [
    "plt.figure(figsize=(17,8))\n",
    "df_orders.groupby('review_score')['order_id'].count().plot.bar()"
   ]
  },
  {
   "cell_type": "markdown",
   "metadata": {
    "id": "QV3MG8mJzbKj"
   },
   "source": [
    "Cantidad de Clientes por cantidad de ordenes de cada cliente"
   ]
  },
  {
   "cell_type": "code",
   "execution_count": null,
   "metadata": {
    "colab": {
     "base_uri": "https://localhost:8080/",
     "height": 645
    },
    "id": "CE2urM81qkyS",
    "outputId": "621431cb-9668-4882-e4f7-3d118ef27df1"
   },
   "outputs": [],
   "source": [
    "plt.figure(figsize=(17,8))\n",
    "orders_client=df_orders.groupby('customer_unique_id')['order_id'].count().sort_values(ascending=False)\n",
    "plt.hist(orders_client,17)"
   ]
  },
  {
   "cell_type": "code",
   "execution_count": null,
   "metadata": {},
   "outputs": [],
   "source": [
    "plt.figure(figsize=(17,8))\n",
    "_=df_orders.groupby('order_status')['order_id'].count().sort_values(ascending=False).plot.bar()"
   ]
  },
  {
   "cell_type": "code",
   "execution_count": null,
   "metadata": {},
   "outputs": [],
   "source": [
    "plt.figure(figsize=(17,8))\n",
    "plt.subplot(121)\n",
    "_=df_orders[df_orders.order_status!='delivered'].groupby('review_score')['order_id'].count().plot.bar()\n",
    "plt.ylabel(\"Orders\")\n",
    "plt.xlabel=\"Review Score\"\n",
    "plt.title(\"State of the Order different than Delivered\")\n",
    "plt.subplot(122)\n",
    "plt.ylabel(\"Orders\")\n",
    "plt.xlabel=\"Review Score\"\n",
    "plt.title(\"Orders Delivered\")\n",
    "_=df_orders[df_orders.order_status=='delivered'].groupby('review_score')['order_id'].count().plot.bar()"
   ]
  },
  {
   "cell_type": "code",
   "execution_count": null,
   "metadata": {},
   "outputs": [],
   "source": [
    "plt.figure(figsize=(17,8))\n",
    "sns.boxplot(y = 'Q_products', x='review_score', data = df_orders)\n",
    "title_string = \"Boxplot of Review Score vs. Quantity of items\" \n",
    "plt.ylabel(\"Quantity of Products\")\n",
    "plt.xlabel(\"Review Score\")\n",
    "_=plt.title(title_string)"
   ]
  },
  {
   "cell_type": "code",
   "execution_count": null,
   "metadata": {},
   "outputs": [],
   "source": [
    "plt.figure(figsize=(17,8))\n",
    "sns.boxplot(y = 'Distance', x='review_score', data = df_orders)\n",
    "title_string = \"Boxplot of Review Score vs. Distance between seller and buyer\" \n",
    "plt.ylabel(\"Distance (km)\")\n",
    "plt.xlabel=\"Review Score\"\n",
    "_=plt.title(title_string)"
   ]
  },
  {
   "cell_type": "code",
   "execution_count": null,
   "metadata": {},
   "outputs": [],
   "source": [
    "plt.figure(figsize=(17,8))\n",
    "plt.subplot(121)\n",
    "plt.title('Fulfill delivery')\n",
    "plt.ylabel(\"Orders\")\n",
    "plt.xlabel=\"Review Score\"\n",
    "_=df_orders[df_orders.Fulfill_date==True].groupby('review_score')['order_id'].count().plot.bar()\n",
    "\n",
    "plt.subplot(122)\n",
    "plt.title(\"Don't Fulfill delivery\")\n",
    "plt.ylabel(\"Orders\")\n",
    "plt.xlabel=\"Review Score\"\n",
    "_=df_orders[df_orders.Fulfill_date==False].groupby('review_score')['order_id'].count().plot.bar()"
   ]
  },
  {
   "cell_type": "code",
   "execution_count": null,
   "metadata": {},
   "outputs": [],
   "source": []
  }
 ],
 "metadata": {
  "colab": {
   "collapsed_sections": [],
   "name": "Proyecto.ipynb",
   "provenance": []
  },
  "kernelspec": {
   "display_name": "Python 3",
   "language": "python",
   "name": "python3"
  },
  "language_info": {
   "codemirror_mode": {
    "name": "ipython",
    "version": 3
   },
   "file_extension": ".py",
   "mimetype": "text/x-python",
   "name": "python",
   "nbconvert_exporter": "python",
   "pygments_lexer": "ipython3",
   "version": "3.6.7"
  }
 },
 "nbformat": 4,
 "nbformat_minor": 1
}
